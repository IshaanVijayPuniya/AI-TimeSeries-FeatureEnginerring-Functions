{
 "cells": [
  {
   "cell_type": "code",
   "execution_count": null,
   "id": "58ad3674-699c-487e-bd9d-374086620fe0",
   "metadata": {},
   "outputs": [],
   "source": []
  }
 ],
 "metadata": {
  "kernelspec": {
   "display_name": "",
   "name": ""
  },
  "language_info": {
   "name": ""
  }
 },
 "nbformat": 4,
 "nbformat_minor": 5
}
